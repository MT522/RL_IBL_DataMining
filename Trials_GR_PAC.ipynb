{
  "cells": [
    {
      "cell_type": "markdown",
      "source": [
        "## Setup"
      ],
      "metadata": {
        "id": "xUGn3wQOi8lc"
      }
    },
    {
      "cell_type": "code",
      "source": [
        "import os, sys\n",
        "from google.colab import drive\n",
        "drive.mount('/content/gdrive/')"
      ],
      "metadata": {
        "colab": {
          "base_uri": "https://localhost:8080/"
        },
        "id": "meZwkmJ2iCnC",
        "outputId": "a85c4f28-dbc8-44a8-c1ba-dfb19a2136e1"
      },
      "execution_count": 39,
      "outputs": [
        {
          "output_type": "stream",
          "name": "stdout",
          "text": [
            "Drive already mounted at /content/gdrive/; to attempt to forcibly remount, call drive.mount(\"/content/gdrive/\", force_remount=True).\n"
          ]
        }
      ]
    },
    {
      "cell_type": "code",
      "source": [
        "!pip install ONE-api\n",
        "!pip install brainbox\n",
        "!pip install ibllib"
      ],
      "metadata": {
        "id": "h6WA4IU7mmF7"
      },
      "execution_count": null,
      "outputs": []
    },
    {
      "cell_type": "code",
      "execution_count": null,
      "metadata": {
        "id": "8NITLPuVad9q",
        "colab": {
          "base_uri": "https://localhost:8080/"
        },
        "outputId": "64c1e983-a574-4c2a-e305-6b8b82edf12f"
      },
      "outputs": [
        {
          "output_type": "stream",
          "name": "stderr",
          "text": [
            "/usr/local/lib/python3.10/dist-packages/ibllib/atlas/__init__.py:202: DeprecationWarning: ibllib.atlas is deprecated. Please install iblatlas using \"pip install iblatlas\" and use this module instead\n",
            "  warnings.warn('ibllib.atlas is deprecated. Please install iblatlas using \"pip install iblatlas\" and use '\n"
          ]
        }
      ],
      "source": [
        "from one.api import ONE\n",
        "from one.api import OneAlyx\n",
        "from one.api import One\n",
        "\n",
        "import pandas as pd\n",
        "import numpy as np\n",
        "import matplotlib.pyplot as plt\n",
        "import brainbox as bb\n",
        "from brainbox.io.one import load_channel_locations\n",
        "\n",
        "from ibllib.atlas import AllenAtlas\n",
        "from ibllib.atlas.regions import BrainRegions\n",
        "import logging\n",
        "import spikeglx\n",
        "import csv\n",
        "\n",
        "import time\n",
        "import math\n",
        "\n",
        "from sklearn.linear_model import LinearRegression"
      ]
    },
    {
      "cell_type": "code",
      "source": [
        "import sys\n",
        "\n",
        "sys.path.insert(1, 'gdrive/MyDrive')\n",
        "\n",
        "import rid_rihaczek"
      ],
      "metadata": {
        "id": "JDlzmUjf7CyN"
      },
      "execution_count": 40,
      "outputs": []
    },
    {
      "cell_type": "code",
      "execution_count": null,
      "metadata": {
        "colab": {
          "base_uri": "https://localhost:8080/"
        },
        "id": "ygGZehlGagvr",
        "outputId": "ed254f41-a02e-44e8-e830-e366632446a6"
      },
      "outputs": [
        {
          "output_type": "stream",
          "name": "stdout",
          "text": [
            "Connected to https://openalyx.internationalbrainlab.org as user \"intbrainlab\"\n",
            "Downloading: /root/Downloads/ONE/openalyx.internationalbrainlab.org/tmpkjwek4hy/cache.zip Bytes: 4118421\n"
          ]
        },
        {
          "output_type": "stream",
          "name": "stderr",
          "text": [
            "100%|██████████| 3.9276323318481445/3.9276323318481445 [00:00<00:00, 22.99it/s]\n"
          ]
        }
      ],
      "source": [
        "ONE.setup(silent=True)\n",
        "one = ONE(password = \"international\")"
      ]
    },
    {
      "cell_type": "markdown",
      "source": [
        "## Load Channel IDs"
      ],
      "metadata": {
        "id": "w6ZxTm5rHUtj"
      }
    },
    {
      "cell_type": "code",
      "source": [
        "eid = \"e45481fa-be22-4365-972c-e7404ed8ab5a\"\n",
        "\n",
        "cc = load_channel_locations(eid, probe=None, one=None, aligned=False, brain_atlas=None)\n",
        "\n",
        "ca1_channel_id = []\n",
        "ot_channel_id = []\n",
        "\n",
        "ca1_probe = ''\n",
        "ot_probe = ''\n",
        "\n",
        "for key in cc.keys():\n",
        "  for i , acronym in enumerate(cc[key]['acronym']): # check exactly if the first and last index are channel indexes\n",
        "    if acronym == 'CA1' :\n",
        "      ca1_channel_id.append(i)\n",
        "\n",
        "      if (ca1_probe != key):\n",
        "        ca1_probe += key\n",
        "\n",
        "    elif acronym == 'OT' :\n",
        "      ot_channel_id.append(i)\n",
        "\n",
        "      if (ot_probe != key):\n",
        "        ot_probe += key"
      ],
      "metadata": {
        "id": "Su_wBXG9GepR"
      },
      "execution_count": null,
      "outputs": []
    },
    {
      "cell_type": "code",
      "source": [
        "len(ot_channel_id), len(ca1_channel_id)"
      ],
      "metadata": {
        "id": "1tEDeiu_HEWS",
        "outputId": "c26da821-07d6-4e97-d2b3-fa66df77f4f8",
        "colab": {
          "base_uri": "https://localhost:8080/"
        }
      },
      "execution_count": null,
      "outputs": [
        {
          "output_type": "execute_result",
          "data": {
            "text/plain": [
              "(10, 54)"
            ]
          },
          "metadata": {},
          "execution_count": 7
        }
      ]
    },
    {
      "cell_type": "code",
      "source": [
        "ca1_probe, ot_probe"
      ],
      "metadata": {
        "colab": {
          "base_uri": "https://localhost:8080/"
        },
        "id": "U3U6fXPqkkS0",
        "outputId": "6d64871a-3887-4e09-937d-51afe70b6422"
      },
      "execution_count": null,
      "outputs": [
        {
          "output_type": "execute_result",
          "data": {
            "text/plain": [
              "('probe01', 'probe00')"
            ]
          },
          "metadata": {},
          "execution_count": 10
        }
      ]
    },
    {
      "cell_type": "markdown",
      "source": [
        "## Load Eid Data"
      ],
      "metadata": {
        "id": "87u-CcExH1Px"
      }
    },
    {
      "cell_type": "code",
      "source": [
        "dsets = one.list_datasets(eid, collection=f'raw_ephys_data/{ca1_probe}', filename='*.lf.*')\n",
        "data_files, _ = one.load_datasets(eid, dsets, download_only=True)\n",
        "bin_file = next(df for df in data_files if df.suffix == '.cbin')\n",
        "\n",
        "# Use spikeglx reader to read in the whole raw data\n",
        "sr_ca1 = spikeglx.Reader(bin_file)\n",
        "\n",
        "dsets = one.list_datasets(eid, collection=f'raw_ephys_data/{ot_probe}', filename='*.lf.*')\n",
        "data_files, _ = one.load_datasets(eid, dsets, download_only=True)\n",
        "bin_file = next(df for df in data_files if df.suffix == '.cbin')\n",
        "\n",
        "# Use spikeglx reader to read in the whole raw data\n",
        "sr_ot = spikeglx.Reader(bin_file)\n",
        "\n",
        "trialsTable = one.load_dataset(eid, 'alf/_ibl_trials.table.pqt')\n",
        "\n",
        "responseTimes = trialsTable['response_times']\n",
        "goCueTimes = trialsTable['goCue_times']\n",
        "feedbackTimes = trialsTable['feedback_times']\n",
        "\n",
        "samplingPeriod = 1/sr_ca1.fs\n",
        "SamplingFrequency = sr_ca1.fs"
      ],
      "metadata": {
        "id": "UazZQt-iH794",
        "outputId": "5595c83b-5ab6-48c5-98fb-9901acd98f25",
        "colab": {
          "base_uri": "https://localhost:8080/"
        }
      },
      "execution_count": null,
      "outputs": [
        {
          "output_type": "stream",
          "name": "stderr",
          "text": [
            "/root/Downloads/ONE/openalyx.internationalbrainlab.org/cortexlab/Subjects/KS086/2022-03-15/001/raw_ephys_data/probe01/_spikeglx_ephysData_g0_t0.imec1.lf.cbin: 100%|██████████| 3.97G/3.97G [00:27<00:00, 143MB/s] \n",
            "/root/Downloads/ONE/openalyx.internationalbrainlab.org/cortexlab/Subjects/KS086/2022-03-15/001/raw_ephys_data/probe01/_spikeglx_ephysData_g0_t0.imec1.lf.ch: 100%|██████████| 194k/194k [00:00<00:00, 1.06MB/s]\n",
            "/root/Downloads/ONE/openalyx.internationalbrainlab.org/cortexlab/Subjects/KS086/2022-03-15/001/raw_ephys_data/probe01/_spikeglx_ephysData_g0_t0.imec1.lf.meta: 100%|██████████| 14.0k/14.0k [00:00<00:00, 141kB/s]\n",
            "/root/Downloads/ONE/openalyx.internationalbrainlab.org/cortexlab/Subjects/KS086/2022-03-15/001/raw_ephys_data/probe00/_spikeglx_ephysData_g0_t0.imec0.lf.cbin: 100%|██████████| 4.14G/4.14G [00:28<00:00, 146MB/s]\n",
            "/root/Downloads/ONE/openalyx.internationalbrainlab.org/cortexlab/Subjects/KS086/2022-03-15/001/raw_ephys_data/probe00/_spikeglx_ephysData_g0_t0.imec0.lf.ch: 100%|██████████| 194k/194k [00:00<00:00, 958kB/s]\n",
            "/root/Downloads/ONE/openalyx.internationalbrainlab.org/cortexlab/Subjects/KS086/2022-03-15/001/raw_ephys_data/probe00/_spikeglx_ephysData_g0_t0.imec0.lf.meta: 100%|██████████| 14.0k/14.0k [00:00<00:00, 118kB/s]\n",
            "/root/Downloads/ONE/openalyx.internationalbrainlab.org/cortexlab/Subjects/KS086/2022-03-15/001/alf/_ibl_trials.table.pqt: 100%|██████████| 44.9k/44.9k [00:00<00:00, 360kB/s]\n"
          ]
        }
      ]
    },
    {
      "cell_type": "code",
      "source": [
        "sr_ca1.fs, sr_ot.fs"
      ],
      "metadata": {
        "colab": {
          "base_uri": "https://localhost:8080/"
        },
        "id": "WukQIUbilVFL",
        "outputId": "f680b0cf-d1f0-4fbd-e076-ad0d8ae2331a"
      },
      "execution_count": null,
      "outputs": [
        {
          "output_type": "execute_result",
          "data": {
            "text/plain": [
              "(2499.9907563025213, 2500.0)"
            ]
          },
          "metadata": {},
          "execution_count": 12
        }
      ]
    },
    {
      "cell_type": "markdown",
      "source": [
        "## Analyze Trial Table"
      ],
      "metadata": {
        "id": "TEfghjSLJpDD"
      }
    },
    {
      "cell_type": "code",
      "source": [
        "print(trialsTable[trialsTable['contrastLeft'] > 0]['contrastRight'].isna().sum())\n",
        "print(trialsTable[trialsTable['contrastLeft'] > 0].shape[0])\n",
        "print(trialsTable[trialsTable['contrastRight'] > 0]['contrastLeft'].isna().sum())\n",
        "print(trialsTable[trialsTable['contrastRight'] > 0].shape[0])\n",
        "\n",
        "n_trials = trialsTable.shape[0]\n",
        "print(n_trials, 269 + 195)"
      ],
      "metadata": {
        "id": "AT9qnu6sJtkp",
        "colab": {
          "base_uri": "https://localhost:8080/"
        },
        "outputId": "1af7a510-6b17-4e33-eaab-25e57d0e3c77"
      },
      "execution_count": null,
      "outputs": [
        {
          "output_type": "stream",
          "name": "stdout",
          "text": [
            "269\n",
            "269\n",
            "195\n",
            "195\n",
            "525 464\n"
          ]
        }
      ]
    },
    {
      "cell_type": "markdown",
      "source": [
        "It is safe to assume that NaN contrasts can be replaced with zero. Nogo trials are where both contrasts are zero. Also, when when side's contrast is greater than zero the other side is surely zero."
      ],
      "metadata": {
        "id": "LScEEVJ0Pwfk"
      }
    },
    {
      "cell_type": "code",
      "source": [
        "trialsTable.contrastRight.fillna(0, inplace = True)\n",
        "trialsTable.contrastLeft.fillna(0, inplace = True)\n",
        "trialsTable"
      ],
      "metadata": {
        "colab": {
          "base_uri": "https://localhost:8080/",
          "height": 475
        },
        "id": "bmUhxDGpQJS9",
        "outputId": "f40737b1-aedd-4b39-941e-a0ab9e284e88"
      },
      "execution_count": null,
      "outputs": [
        {
          "output_type": "execute_result",
          "data": {
            "text/plain": [
              "         goCue_times  contrastLeft  feedback_times  intervals_0  intervals_1  \\\n",
              "trial_#                                                                        \n",
              "0         253.702685          1.00      259.815472   227.752901   261.364789   \n",
              "1         263.162007          0.00      291.382888   262.132799   293.931156   \n",
              "2         295.144852          0.25      305.327610   294.630864   306.893633   \n",
              "3         308.265481          0.00      314.622546   307.593541   316.164571   \n",
              "4         319.244767          0.00      320.144753   316.857680   322.697882   \n",
              "...              ...           ...             ...          ...          ...   \n",
              "520      4931.920652          1.00     4932.400043  4931.348837  4933.954967   \n",
              "521      4935.126633          0.00     4947.894593  4934.662674  4950.455023   \n",
              "522      4951.676222          0.00     4966.683816  4951.187632  4969.236415   \n",
              "523      4970.609465          0.25     4971.110421  4969.948624  4972.670652   \n",
              "524      4974.292803          0.00     6617.265932  4973.330256  5014.524941   \n",
              "\n",
              "         firstMovement_times  probabilityLeft  stimOn_times  choice  \\\n",
              "trial_#                                                               \n",
              "0                 259.554094              0.5    253.811408       1   \n",
              "1                 291.036094              0.5    263.160974       1   \n",
              "2                 304.884094              0.5    295.143852       1   \n",
              "3                 311.621094              0.5    308.264547      -1   \n",
              "4                 319.357094              0.5    319.243934      -1   \n",
              "...                      ...              ...           ...     ...   \n",
              "520              4932.049094              0.2   4931.919619       1   \n",
              "521              4947.517094              0.2   4935.125533       1   \n",
              "522              4963.605094              0.2   4951.675322       1   \n",
              "523              4970.882094              0.2   4970.608632       1   \n",
              "524              4992.370094              0.2   4974.291903       1   \n",
              "\n",
              "         rewardVolume  response_times  feedbackType  contrastRight  \n",
              "trial_#                                                             \n",
              "0                 1.5      259.815365             1         0.0000  \n",
              "1                 0.0      291.381819            -1         0.1250  \n",
              "2                 1.5      305.327510             1         0.0000  \n",
              "3                 1.5      314.622446             1         1.0000  \n",
              "4                 0.0      320.143837            -1         0.0000  \n",
              "...               ...             ...           ...            ...  \n",
              "520               1.5     4932.399949             1         0.0000  \n",
              "521               0.0     4947.893682            -1         0.1250  \n",
              "522               0.0     4966.682873            -1         0.2500  \n",
              "523               1.5     4971.110335             1         0.0000  \n",
              "524               0.0     5011.976915            -1         0.0625  \n",
              "\n",
              "[525 rows x 13 columns]"
            ],
            "text/html": [
              "\n",
              "  <div id=\"df-a9f72bcd-470c-4cf1-a575-d09148f4c8ad\" class=\"colab-df-container\">\n",
              "    <div>\n",
              "<style scoped>\n",
              "    .dataframe tbody tr th:only-of-type {\n",
              "        vertical-align: middle;\n",
              "    }\n",
              "\n",
              "    .dataframe tbody tr th {\n",
              "        vertical-align: top;\n",
              "    }\n",
              "\n",
              "    .dataframe thead th {\n",
              "        text-align: right;\n",
              "    }\n",
              "</style>\n",
              "<table border=\"1\" class=\"dataframe\">\n",
              "  <thead>\n",
              "    <tr style=\"text-align: right;\">\n",
              "      <th></th>\n",
              "      <th>goCue_times</th>\n",
              "      <th>contrastLeft</th>\n",
              "      <th>feedback_times</th>\n",
              "      <th>intervals_0</th>\n",
              "      <th>intervals_1</th>\n",
              "      <th>firstMovement_times</th>\n",
              "      <th>probabilityLeft</th>\n",
              "      <th>stimOn_times</th>\n",
              "      <th>choice</th>\n",
              "      <th>rewardVolume</th>\n",
              "      <th>response_times</th>\n",
              "      <th>feedbackType</th>\n",
              "      <th>contrastRight</th>\n",
              "    </tr>\n",
              "    <tr>\n",
              "      <th>trial_#</th>\n",
              "      <th></th>\n",
              "      <th></th>\n",
              "      <th></th>\n",
              "      <th></th>\n",
              "      <th></th>\n",
              "      <th></th>\n",
              "      <th></th>\n",
              "      <th></th>\n",
              "      <th></th>\n",
              "      <th></th>\n",
              "      <th></th>\n",
              "      <th></th>\n",
              "      <th></th>\n",
              "    </tr>\n",
              "  </thead>\n",
              "  <tbody>\n",
              "    <tr>\n",
              "      <th>0</th>\n",
              "      <td>253.702685</td>\n",
              "      <td>1.00</td>\n",
              "      <td>259.815472</td>\n",
              "      <td>227.752901</td>\n",
              "      <td>261.364789</td>\n",
              "      <td>259.554094</td>\n",
              "      <td>0.5</td>\n",
              "      <td>253.811408</td>\n",
              "      <td>1</td>\n",
              "      <td>1.5</td>\n",
              "      <td>259.815365</td>\n",
              "      <td>1</td>\n",
              "      <td>0.0000</td>\n",
              "    </tr>\n",
              "    <tr>\n",
              "      <th>1</th>\n",
              "      <td>263.162007</td>\n",
              "      <td>0.00</td>\n",
              "      <td>291.382888</td>\n",
              "      <td>262.132799</td>\n",
              "      <td>293.931156</td>\n",
              "      <td>291.036094</td>\n",
              "      <td>0.5</td>\n",
              "      <td>263.160974</td>\n",
              "      <td>1</td>\n",
              "      <td>0.0</td>\n",
              "      <td>291.381819</td>\n",
              "      <td>-1</td>\n",
              "      <td>0.1250</td>\n",
              "    </tr>\n",
              "    <tr>\n",
              "      <th>2</th>\n",
              "      <td>295.144852</td>\n",
              "      <td>0.25</td>\n",
              "      <td>305.327610</td>\n",
              "      <td>294.630864</td>\n",
              "      <td>306.893633</td>\n",
              "      <td>304.884094</td>\n",
              "      <td>0.5</td>\n",
              "      <td>295.143852</td>\n",
              "      <td>1</td>\n",
              "      <td>1.5</td>\n",
              "      <td>305.327510</td>\n",
              "      <td>1</td>\n",
              "      <td>0.0000</td>\n",
              "    </tr>\n",
              "    <tr>\n",
              "      <th>3</th>\n",
              "      <td>308.265481</td>\n",
              "      <td>0.00</td>\n",
              "      <td>314.622546</td>\n",
              "      <td>307.593541</td>\n",
              "      <td>316.164571</td>\n",
              "      <td>311.621094</td>\n",
              "      <td>0.5</td>\n",
              "      <td>308.264547</td>\n",
              "      <td>-1</td>\n",
              "      <td>1.5</td>\n",
              "      <td>314.622446</td>\n",
              "      <td>1</td>\n",
              "      <td>1.0000</td>\n",
              "    </tr>\n",
              "    <tr>\n",
              "      <th>4</th>\n",
              "      <td>319.244767</td>\n",
              "      <td>0.00</td>\n",
              "      <td>320.144753</td>\n",
              "      <td>316.857680</td>\n",
              "      <td>322.697882</td>\n",
              "      <td>319.357094</td>\n",
              "      <td>0.5</td>\n",
              "      <td>319.243934</td>\n",
              "      <td>-1</td>\n",
              "      <td>0.0</td>\n",
              "      <td>320.143837</td>\n",
              "      <td>-1</td>\n",
              "      <td>0.0000</td>\n",
              "    </tr>\n",
              "    <tr>\n",
              "      <th>...</th>\n",
              "      <td>...</td>\n",
              "      <td>...</td>\n",
              "      <td>...</td>\n",
              "      <td>...</td>\n",
              "      <td>...</td>\n",
              "      <td>...</td>\n",
              "      <td>...</td>\n",
              "      <td>...</td>\n",
              "      <td>...</td>\n",
              "      <td>...</td>\n",
              "      <td>...</td>\n",
              "      <td>...</td>\n",
              "      <td>...</td>\n",
              "    </tr>\n",
              "    <tr>\n",
              "      <th>520</th>\n",
              "      <td>4931.920652</td>\n",
              "      <td>1.00</td>\n",
              "      <td>4932.400043</td>\n",
              "      <td>4931.348837</td>\n",
              "      <td>4933.954967</td>\n",
              "      <td>4932.049094</td>\n",
              "      <td>0.2</td>\n",
              "      <td>4931.919619</td>\n",
              "      <td>1</td>\n",
              "      <td>1.5</td>\n",
              "      <td>4932.399949</td>\n",
              "      <td>1</td>\n",
              "      <td>0.0000</td>\n",
              "    </tr>\n",
              "    <tr>\n",
              "      <th>521</th>\n",
              "      <td>4935.126633</td>\n",
              "      <td>0.00</td>\n",
              "      <td>4947.894593</td>\n",
              "      <td>4934.662674</td>\n",
              "      <td>4950.455023</td>\n",
              "      <td>4947.517094</td>\n",
              "      <td>0.2</td>\n",
              "      <td>4935.125533</td>\n",
              "      <td>1</td>\n",
              "      <td>0.0</td>\n",
              "      <td>4947.893682</td>\n",
              "      <td>-1</td>\n",
              "      <td>0.1250</td>\n",
              "    </tr>\n",
              "    <tr>\n",
              "      <th>522</th>\n",
              "      <td>4951.676222</td>\n",
              "      <td>0.00</td>\n",
              "      <td>4966.683816</td>\n",
              "      <td>4951.187632</td>\n",
              "      <td>4969.236415</td>\n",
              "      <td>4963.605094</td>\n",
              "      <td>0.2</td>\n",
              "      <td>4951.675322</td>\n",
              "      <td>1</td>\n",
              "      <td>0.0</td>\n",
              "      <td>4966.682873</td>\n",
              "      <td>-1</td>\n",
              "      <td>0.2500</td>\n",
              "    </tr>\n",
              "    <tr>\n",
              "      <th>523</th>\n",
              "      <td>4970.609465</td>\n",
              "      <td>0.25</td>\n",
              "      <td>4971.110421</td>\n",
              "      <td>4969.948624</td>\n",
              "      <td>4972.670652</td>\n",
              "      <td>4970.882094</td>\n",
              "      <td>0.2</td>\n",
              "      <td>4970.608632</td>\n",
              "      <td>1</td>\n",
              "      <td>1.5</td>\n",
              "      <td>4971.110335</td>\n",
              "      <td>1</td>\n",
              "      <td>0.0000</td>\n",
              "    </tr>\n",
              "    <tr>\n",
              "      <th>524</th>\n",
              "      <td>4974.292803</td>\n",
              "      <td>0.00</td>\n",
              "      <td>6617.265932</td>\n",
              "      <td>4973.330256</td>\n",
              "      <td>5014.524941</td>\n",
              "      <td>4992.370094</td>\n",
              "      <td>0.2</td>\n",
              "      <td>4974.291903</td>\n",
              "      <td>1</td>\n",
              "      <td>0.0</td>\n",
              "      <td>5011.976915</td>\n",
              "      <td>-1</td>\n",
              "      <td>0.0625</td>\n",
              "    </tr>\n",
              "  </tbody>\n",
              "</table>\n",
              "<p>525 rows × 13 columns</p>\n",
              "</div>\n",
              "    <div class=\"colab-df-buttons\">\n",
              "\n",
              "  <div class=\"colab-df-container\">\n",
              "    <button class=\"colab-df-convert\" onclick=\"convertToInteractive('df-a9f72bcd-470c-4cf1-a575-d09148f4c8ad')\"\n",
              "            title=\"Convert this dataframe to an interactive table.\"\n",
              "            style=\"display:none;\">\n",
              "\n",
              "  <svg xmlns=\"http://www.w3.org/2000/svg\" height=\"24px\" viewBox=\"0 -960 960 960\">\n",
              "    <path d=\"M120-120v-720h720v720H120Zm60-500h600v-160H180v160Zm220 220h160v-160H400v160Zm0 220h160v-160H400v160ZM180-400h160v-160H180v160Zm440 0h160v-160H620v160ZM180-180h160v-160H180v160Zm440 0h160v-160H620v160Z\"/>\n",
              "  </svg>\n",
              "    </button>\n",
              "\n",
              "  <style>\n",
              "    .colab-df-container {\n",
              "      display:flex;\n",
              "      gap: 12px;\n",
              "    }\n",
              "\n",
              "    .colab-df-convert {\n",
              "      background-color: #E8F0FE;\n",
              "      border: none;\n",
              "      border-radius: 50%;\n",
              "      cursor: pointer;\n",
              "      display: none;\n",
              "      fill: #1967D2;\n",
              "      height: 32px;\n",
              "      padding: 0 0 0 0;\n",
              "      width: 32px;\n",
              "    }\n",
              "\n",
              "    .colab-df-convert:hover {\n",
              "      background-color: #E2EBFA;\n",
              "      box-shadow: 0px 1px 2px rgba(60, 64, 67, 0.3), 0px 1px 3px 1px rgba(60, 64, 67, 0.15);\n",
              "      fill: #174EA6;\n",
              "    }\n",
              "\n",
              "    .colab-df-buttons div {\n",
              "      margin-bottom: 4px;\n",
              "    }\n",
              "\n",
              "    [theme=dark] .colab-df-convert {\n",
              "      background-color: #3B4455;\n",
              "      fill: #D2E3FC;\n",
              "    }\n",
              "\n",
              "    [theme=dark] .colab-df-convert:hover {\n",
              "      background-color: #434B5C;\n",
              "      box-shadow: 0px 1px 3px 1px rgba(0, 0, 0, 0.15);\n",
              "      filter: drop-shadow(0px 1px 2px rgba(0, 0, 0, 0.3));\n",
              "      fill: #FFFFFF;\n",
              "    }\n",
              "  </style>\n",
              "\n",
              "    <script>\n",
              "      const buttonEl =\n",
              "        document.querySelector('#df-a9f72bcd-470c-4cf1-a575-d09148f4c8ad button.colab-df-convert');\n",
              "      buttonEl.style.display =\n",
              "        google.colab.kernel.accessAllowed ? 'block' : 'none';\n",
              "\n",
              "      async function convertToInteractive(key) {\n",
              "        const element = document.querySelector('#df-a9f72bcd-470c-4cf1-a575-d09148f4c8ad');\n",
              "        const dataTable =\n",
              "          await google.colab.kernel.invokeFunction('convertToInteractive',\n",
              "                                                    [key], {});\n",
              "        if (!dataTable) return;\n",
              "\n",
              "        const docLinkHtml = 'Like what you see? Visit the ' +\n",
              "          '<a target=\"_blank\" href=https://colab.research.google.com/notebooks/data_table.ipynb>data table notebook</a>'\n",
              "          + ' to learn more about interactive tables.';\n",
              "        element.innerHTML = '';\n",
              "        dataTable['output_type'] = 'display_data';\n",
              "        await google.colab.output.renderOutput(dataTable, element);\n",
              "        const docLink = document.createElement('div');\n",
              "        docLink.innerHTML = docLinkHtml;\n",
              "        element.appendChild(docLink);\n",
              "      }\n",
              "    </script>\n",
              "  </div>\n",
              "\n",
              "\n",
              "<div id=\"df-d0470a9d-51b3-4480-a26e-351dab4a2b4d\">\n",
              "  <button class=\"colab-df-quickchart\" onclick=\"quickchart('df-d0470a9d-51b3-4480-a26e-351dab4a2b4d')\"\n",
              "            title=\"Suggest charts\"\n",
              "            style=\"display:none;\">\n",
              "\n",
              "<svg xmlns=\"http://www.w3.org/2000/svg\" height=\"24px\"viewBox=\"0 0 24 24\"\n",
              "     width=\"24px\">\n",
              "    <g>\n",
              "        <path d=\"M19 3H5c-1.1 0-2 .9-2 2v14c0 1.1.9 2 2 2h14c1.1 0 2-.9 2-2V5c0-1.1-.9-2-2-2zM9 17H7v-7h2v7zm4 0h-2V7h2v10zm4 0h-2v-4h2v4z\"/>\n",
              "    </g>\n",
              "</svg>\n",
              "  </button>\n",
              "\n",
              "<style>\n",
              "  .colab-df-quickchart {\n",
              "      --bg-color: #E8F0FE;\n",
              "      --fill-color: #1967D2;\n",
              "      --hover-bg-color: #E2EBFA;\n",
              "      --hover-fill-color: #174EA6;\n",
              "      --disabled-fill-color: #AAA;\n",
              "      --disabled-bg-color: #DDD;\n",
              "  }\n",
              "\n",
              "  [theme=dark] .colab-df-quickchart {\n",
              "      --bg-color: #3B4455;\n",
              "      --fill-color: #D2E3FC;\n",
              "      --hover-bg-color: #434B5C;\n",
              "      --hover-fill-color: #FFFFFF;\n",
              "      --disabled-bg-color: #3B4455;\n",
              "      --disabled-fill-color: #666;\n",
              "  }\n",
              "\n",
              "  .colab-df-quickchart {\n",
              "    background-color: var(--bg-color);\n",
              "    border: none;\n",
              "    border-radius: 50%;\n",
              "    cursor: pointer;\n",
              "    display: none;\n",
              "    fill: var(--fill-color);\n",
              "    height: 32px;\n",
              "    padding: 0;\n",
              "    width: 32px;\n",
              "  }\n",
              "\n",
              "  .colab-df-quickchart:hover {\n",
              "    background-color: var(--hover-bg-color);\n",
              "    box-shadow: 0 1px 2px rgba(60, 64, 67, 0.3), 0 1px 3px 1px rgba(60, 64, 67, 0.15);\n",
              "    fill: var(--button-hover-fill-color);\n",
              "  }\n",
              "\n",
              "  .colab-df-quickchart-complete:disabled,\n",
              "  .colab-df-quickchart-complete:disabled:hover {\n",
              "    background-color: var(--disabled-bg-color);\n",
              "    fill: var(--disabled-fill-color);\n",
              "    box-shadow: none;\n",
              "  }\n",
              "\n",
              "  .colab-df-spinner {\n",
              "    border: 2px solid var(--fill-color);\n",
              "    border-color: transparent;\n",
              "    border-bottom-color: var(--fill-color);\n",
              "    animation:\n",
              "      spin 1s steps(1) infinite;\n",
              "  }\n",
              "\n",
              "  @keyframes spin {\n",
              "    0% {\n",
              "      border-color: transparent;\n",
              "      border-bottom-color: var(--fill-color);\n",
              "      border-left-color: var(--fill-color);\n",
              "    }\n",
              "    20% {\n",
              "      border-color: transparent;\n",
              "      border-left-color: var(--fill-color);\n",
              "      border-top-color: var(--fill-color);\n",
              "    }\n",
              "    30% {\n",
              "      border-color: transparent;\n",
              "      border-left-color: var(--fill-color);\n",
              "      border-top-color: var(--fill-color);\n",
              "      border-right-color: var(--fill-color);\n",
              "    }\n",
              "    40% {\n",
              "      border-color: transparent;\n",
              "      border-right-color: var(--fill-color);\n",
              "      border-top-color: var(--fill-color);\n",
              "    }\n",
              "    60% {\n",
              "      border-color: transparent;\n",
              "      border-right-color: var(--fill-color);\n",
              "    }\n",
              "    80% {\n",
              "      border-color: transparent;\n",
              "      border-right-color: var(--fill-color);\n",
              "      border-bottom-color: var(--fill-color);\n",
              "    }\n",
              "    90% {\n",
              "      border-color: transparent;\n",
              "      border-bottom-color: var(--fill-color);\n",
              "    }\n",
              "  }\n",
              "</style>\n",
              "\n",
              "  <script>\n",
              "    async function quickchart(key) {\n",
              "      const quickchartButtonEl =\n",
              "        document.querySelector('#' + key + ' button');\n",
              "      quickchartButtonEl.disabled = true;  // To prevent multiple clicks.\n",
              "      quickchartButtonEl.classList.add('colab-df-spinner');\n",
              "      try {\n",
              "        const charts = await google.colab.kernel.invokeFunction(\n",
              "            'suggestCharts', [key], {});\n",
              "      } catch (error) {\n",
              "        console.error('Error during call to suggestCharts:', error);\n",
              "      }\n",
              "      quickchartButtonEl.classList.remove('colab-df-spinner');\n",
              "      quickchartButtonEl.classList.add('colab-df-quickchart-complete');\n",
              "    }\n",
              "    (() => {\n",
              "      let quickchartButtonEl =\n",
              "        document.querySelector('#df-d0470a9d-51b3-4480-a26e-351dab4a2b4d button');\n",
              "      quickchartButtonEl.style.display =\n",
              "        google.colab.kernel.accessAllowed ? 'block' : 'none';\n",
              "    })();\n",
              "  </script>\n",
              "</div>\n",
              "    </div>\n",
              "  </div>\n"
            ]
          },
          "metadata": {},
          "execution_count": 9
        }
      ]
    },
    {
      "cell_type": "code",
      "source": [
        "n_Trials = trialsTable.shape[0]\n",
        "\n",
        "responseTime = trialsTable['response_times'].to_numpy()\n",
        "contrastLeft = trialsTable['contrastLeft'].to_numpy()\n",
        "contrastRight = trialsTable['contrastRight'].to_numpy()\n",
        "response = trialsTable['choice'].to_numpy()\n",
        "\n",
        "correctAnswers = np.ones(n_Trials)\n",
        "\n",
        "for i in range(n_Trials):\n",
        "    if (contrastRight[i] > contrastLeft[i]):\n",
        "        correctAnswers[i] = -1\n",
        "    elif (contrastRight[i] == contrastLeft[i]):\n",
        "        correctAnswers[i] = 0\n",
        "\n",
        "leftTrialIndices = np.argwhere(correctAnswers == 1).flatten()\n",
        "rightTrialIndices = np.argwhere(correctAnswers == -1).flatten()\n",
        "nogoTrialIndices = np.argwhere(correctAnswers == 0).flatten()\n",
        "\n",
        "leftTrialsTable = trialsTable.loc[leftTrialIndices]\n",
        "rightTrialsTable = trialsTable.loc[rightTrialIndices]\n",
        "nogoTrialsTable = trialsTable.loc[nogoTrialIndices]"
      ],
      "metadata": {
        "id": "M-RLq_NpQvTp"
      },
      "execution_count": null,
      "outputs": []
    },
    {
      "cell_type": "markdown",
      "source": [
        "## Extract LFP Signals"
      ],
      "metadata": {
        "id": "o7C25bgAVSBS"
      }
    },
    {
      "cell_type": "code",
      "source": [
        "def extract_lfp(event, sr_ca1, sr_ot, samplingFreq, down_sample_rate, ca1_channel_id, ot_channel_id):\n",
        "  samplingPeriod = 1 / samplingFreq\n",
        "\n",
        "  beforeMargin = 1\n",
        "  afterMargin = 1\n",
        "\n",
        "  n_beforeEventSamples = np.floor(beforeMargin/samplingPeriod)\n",
        "  n_afterEventSamples = np.floor(afterMargin/samplingPeriod)\n",
        "  n_trialsSamples = n_beforeEventSamples + n_afterEventSamples + 1\n",
        "\n",
        "  t_scale_before = np.arange(start = -beforeMargin, stop = 0, step = samplingPeriod * down_sample_rate)\n",
        "  t_scale_after = np.arange(start = 0, stop = afterMargin, step = samplingPeriod * down_sample_rate)\n",
        "\n",
        "  zeroEvent = (np.floor(event / samplingPeriod)).astype(np.int64).to_numpy()\n",
        "  beforeEvent = (zeroEvent - samplingFreq * beforeMargin).astype(np.int64)\n",
        "  afterEvent = (zeroEvent + samplingFreq * afterMargin).astype(np.int64)\n",
        "\n",
        "  ca1_lfp_data_before = []\n",
        "  ca1_lfp_data_after = []\n",
        "  ot_lfp_data_before = []\n",
        "  ot_lfp_data_after = []\n",
        "\n",
        "  for i in range(event.shape[0]):\n",
        "    ca1_lfp_data_before.append(sr_ca1.read(nsel = slice(beforeEvent[i], zeroEvent[i], down_sample_rate), csel = ca1_channel_id)[0])\n",
        "    ca1_lfp_data_after.append(sr_ca1.read(nsel = slice(zeroEvent[i], afterEvent[i], down_sample_rate), csel = ca1_channel_id)[0])\n",
        "\n",
        "    ot_lfp_data_before.append(sr_ot.read(nsel = slice(beforeEvent[i], zeroEvent[i], down_sample_rate), csel = ot_channel_id)[0])\n",
        "    ot_lfp_data_after.append(sr_ot.read(nsel = slice(zeroEvent[i], afterEvent[i], down_sample_rate), csel = ot_channel_id)[0])\n",
        "\n",
        "  ca1_lfp_data_before = np.asarray(ca1_lfp_data_before)\n",
        "  ca1_lfp_data_before = np.moveaxis(ca1_lfp_data_before, 2, 1)\n",
        "\n",
        "  ca1_lfp_data_after = np.asarray(ca1_lfp_data_after)\n",
        "  ca1_lfp_data_after = np.moveaxis(ca1_lfp_data_after, 2, 1)\n",
        "\n",
        "  ot_lfp_data_before = np.asarray(ot_lfp_data_before)\n",
        "  ot_lfp_data_before = np.moveaxis(ot_lfp_data_before, 2, 1)\n",
        "\n",
        "  ot_lfp_data_after = np.asarray(ot_lfp_data_after)\n",
        "  ot_lfp_data_after = np.moveaxis(ot_lfp_data_after, 2, 1)\n",
        "\n",
        "  return t_scale_before, t_scale_after, ca1_lfp_data_before, ca1_lfp_data_after, ot_lfp_data_before, ot_lfp_data_after"
      ],
      "metadata": {
        "id": "l2yKlZofdJmU"
      },
      "execution_count": null,
      "outputs": []
    },
    {
      "cell_type": "code",
      "source": [
        "ca1 = {}\n",
        "ca1['left'] = {}\n",
        "ca1['nogo'] = {}\n",
        "ca1['right'] = {}\n",
        "\n",
        "ot = {}\n",
        "ot['left'] = {}\n",
        "ot['nogo'] = {}\n",
        "ot['right'] = {}\n",
        "\n",
        "sampling_freq = 2500\n",
        "down_sample_rate = 10\n",
        "\n",
        "ca1['channel_id'] = ca1_channel_id\n",
        "ot['channel_id'] = ot_channel_id\n",
        "\n",
        "for key in ca1.keys():\n",
        "  if (key == 'left'):\n",
        "    t_before, t_after, ca1[key]['before'], ca1[key]['after'], ot[key]['before'], ot[key]['after'] = \\\n",
        "    extract_lfp(leftTrialsTable.response_times, sr_ca1, sr_ot, sampling_freq, down_sample_rate, ca1['channel_id'], ot['channel_id'])\n",
        "  elif (key == 'nogo'):\n",
        "    t_before, t_after, ca1[key]['before'], ca1[key]['after'], ot[key]['before'], ot[key]['after'] = \\\n",
        "    extract_lfp(nogoTrialsTable.response_times, sr_ca1, sr_ot, sampling_freq, down_sample_rate, ca1['channel_id'], ot['channel_id'])\n",
        "  if (key == 'right'):\n",
        "    t_before, t_after, ca1[key]['before'], ca1[key]['after'], ot[key]['before'], ot[key]['after'] = \\\n",
        "    extract_lfp(rightTrialsTable.response_times, sr_ca1, sr_ot, sampling_freq, down_sample_rate, ca1['channel_id'], ot['channel_id'])"
      ],
      "metadata": {
        "id": "StQSdVzve3nw"
      },
      "execution_count": null,
      "outputs": []
    },
    {
      "cell_type": "markdown",
      "source": [
        "## Granger Causality Implementation"
      ],
      "metadata": {
        "id": "OnH5Lbb_gr64"
      }
    },
    {
      "cell_type": "code",
      "source": [
        "def calc_gc(sig1, sig2, n_samples, model_order):\n",
        "  featureMat_1 = np.zeros((n_samples-model_order, model_order))\n",
        "  featureMat_2 = np.zeros((n_samples-model_order, 2*model_order))\n",
        "\n",
        "  for i in range(model_order, n_samples):\n",
        "    featureMat_1[i-model_order,:] = sig1[i-model_order:i]\n",
        "    featureMat_2[i-model_order,:model_order] = sig1[i-model_order:i]\n",
        "    featureMat_2[i-model_order,model_order:] = sig2[i-model_order:i]\n",
        "\n",
        "  reg = LinearRegression(fit_intercept=False).fit(featureMat_1, sig1[model_order:])\n",
        "  auto_coef = reg.coef_[:, np.newaxis]\n",
        "\n",
        "  sig1_hat = featureMat_1 @ auto_coef\n",
        "  auto_var = np.var(sig1[model_order:] - sig1_hat)\n",
        "\n",
        "\n",
        "  reg2 = LinearRegression(fit_intercept=False).fit(featureMat_2, sig1[model_order:])\n",
        "  cross_coef = reg2.coef_[:, np.newaxis]\n",
        "\n",
        "  sig1_hat2 = featureMat_2 @ cross_coef\n",
        "  cross_var = np.var(sig1[model_order:] - sig1_hat2)\n",
        "\n",
        "  gc_F = np.log(auto_var / cross_var)\n",
        "\n",
        "  if (gc_F < 0):\n",
        "    gc_F = 0\n",
        "\n",
        "  return gc_F"
      ],
      "metadata": {
        "id": "IFvIez22x41x"
      },
      "execution_count": null,
      "outputs": []
    },
    {
      "cell_type": "code",
      "source": [
        "model_order = 10\n",
        "\n",
        "n_samples = 250\n",
        "\n",
        "sig1 = np.random.normal(3.2, 4, size=(n_samples))\n",
        "sig2 = np.random.normal(5.2, 1, size = (n_samples))\n",
        "\n",
        "gc = calc_gc(sig1, sig2, 250, 10)\n",
        "gc"
      ],
      "metadata": {
        "colab": {
          "base_uri": "https://localhost:8080/"
        },
        "id": "pNz4ksIegyEM",
        "outputId": "669d2f77-7318-4a55-86f7-62721084554c"
      },
      "execution_count": null,
      "outputs": [
        {
          "output_type": "execute_result",
          "data": {
            "text/plain": [
              "0.02097654282808627"
            ]
          },
          "metadata": {},
          "execution_count": 26
        }
      ]
    },
    {
      "cell_type": "markdown",
      "source": [
        "## RID Rihaczek"
      ],
      "metadata": {
        "id": "HbGwepoF3enZ"
      }
    },
    {
      "cell_type": "markdown",
      "source": [
        "Function **rid_rihaczek(x, fbins)** can be used to get time frequency distribution tfd"
      ],
      "metadata": {
        "id": "jzZKiD9S7aaf"
      }
    },
    {
      "cell_type": "code",
      "source": [
        "def get_amp_phase(sig, n_samples, low_freq, high_freq):\n",
        "  tfd = rid_rihaczek.rid_rihaczek(sig, n_samples)\n",
        "\n",
        "  amp = np.abs(sum(tfd[high_freq[0]:high_freq[1]+1, :]))\n",
        "  phase = np.angle(sum(tfd[low_freq[0]:low_freq[1]+1, :]))\n",
        "\n",
        "  return amp, phase"
      ],
      "metadata": {
        "id": "3_k-dpTy1-zp"
      },
      "execution_count": null,
      "outputs": []
    },
    {
      "cell_type": "code",
      "source": [
        "sig_sample = ca1['left']['before'][10,1,:]\n",
        "sig_sample2 = ot['left']['before'][10,1,:]\n",
        "\n",
        "n_samples = sig_sample.shape[0]\n",
        "\n",
        "high_freq = [30, 80]\n",
        "low_freq = [8, 12]\n",
        "\n",
        "tfd1 = rid_rihaczek.rid_rihaczek(sig_sample, n_samples)\n",
        "\n",
        "tfd2 = rid_rihaczek.rid_rihaczek(sig_sample2, n_samples)\n",
        "\n",
        "amp1 = np.abs(sum(tfd1[high_freq[0]:high_freq[1]+1, :]))\n",
        "phase1 = np.angle(sum(tfd1[low_freq[0]:low_freq[1]+1, :]))\n",
        "\n",
        "amp2 = np.abs(sum(tfd2[high_freq[0]:high_freq[1]+1, :]))\n",
        "phase2 = np.angle(sum(tfd2[low_freq[0]:low_freq[1]+1, :]))"
      ],
      "metadata": {
        "id": "NRGCEmM87q_o"
      },
      "execution_count": null,
      "outputs": []
    },
    {
      "cell_type": "code",
      "source": [
        "self_gc_ca1_phaseONamp = calc_gc(amp1, phase1, n_samples, 10)\n",
        "self_gc_ca1_ampONphase = calc_gc(phase1, amp1, n_samples, 10)\n",
        "\n",
        "self_gc_ot_phaseONamp = calc_gc(amp2, phase2, n_samples, 10)\n",
        "self_gc_ot_ampONphase = calc_gc(phase2, amp2, n_samples, 10)\n",
        "\n",
        "cross_gc_amp1phase2 = calc_gc(phase2, amp1, n_samples, 10)\n",
        "cross_gc_phase2amp1 = calc_gc(amp1, phase2, n_samples, 10)\n",
        "cross_gc_amp2phase1 = calc_gc(phase1, amp2, n_samples, 10)\n",
        "cross_gc_phase1amp2 = calc_gc(amp2, phase1, n_samples, 10)\n",
        "\n",
        "self_gc_ca1_phaseONamp, self_gc_ca1_ampONphase, self_gc_ot_phaseONamp, self_gc_ot_ampONphase, cross_gc_amp1phase2, cross_gc_phase2amp1, cross_gc_amp2phase1, cross_gc_phase1amp2"
      ],
      "metadata": {
        "colab": {
          "base_uri": "https://localhost:8080/"
        },
        "id": "43uCR9_38-O7",
        "outputId": "e3360dfa-37ca-4576-f7f3-dbdcf92b66f0"
      },
      "execution_count": null,
      "outputs": [
        {
          "output_type": "execute_result",
          "data": {
            "text/plain": [
              "(0, 0, 0, 0, 0, 0, 0, 0)"
            ]
          },
          "metadata": {},
          "execution_count": 36
        }
      ]
    },
    {
      "cell_type": "markdown",
      "source": [
        "## Reducing LFP Data Size"
      ],
      "metadata": {
        "id": "9wFKvF3wBJ_1"
      }
    },
    {
      "cell_type": "code",
      "source": [
        "ca1_division_size = math.floor(len(ca1['channel_id']) / 3)\n",
        "ot_division_size = math.floor(len(ot['channel_id']) / 3)\n",
        "\n",
        "trial_binsize = 10\n",
        "n_samples = 250\n",
        "\n",
        "#S for surface, M for mid, D for deep\n",
        "ca1_s = {}\n",
        "ca1_m = {}\n",
        "ca1_d = {}\n",
        "ot_s = {}\n",
        "ot_m = {}\n",
        "ot_d = {}\n",
        "\n",
        "for key,value in zip(ca1.keys(), ca1.values()):\n",
        "  if (key != 'channel_id'):\n",
        "    ca1_s[key] = {}\n",
        "    ca1_m[key] = {}\n",
        "    ca1_d[key] = {}\n",
        "\n",
        "    ot_s[key] = {}\n",
        "    ot_m[key] = {}\n",
        "    ot_d[key] = {}\n",
        "\n",
        "for key,value in zip(ca1.keys(), ca1.values()):\n",
        "  if (key != 'channel_id'):\n",
        "    for key2 in value.keys():\n",
        "      ca1_s[key][key2] = ca1[key][key2][:, :ca1_division_size, :].mean(axis = 1)\n",
        "\n",
        "      counter = 0\n",
        "      temp = np.zeros(n_samples)\n",
        "      temp_ar = []\n",
        "      for i in range(ca1_s[key][key2].shape[0]):\n",
        "        temp = temp + ca1_s[key][key2][i, :]\n",
        "        counter += 1\n",
        "\n",
        "        if (counter == trial_binsize):\n",
        "          temp_ar.append(temp / counter)\n",
        "          counter = 0\n",
        "          temp = np.zeros(n_samples)\n",
        "\n",
        "      if (counter != 0):\n",
        "        temp_ar.append(temp / counter)\n",
        "\n",
        "      ca1_s[key][key2] = np.asarray(temp_ar)\n",
        "\n",
        "\n",
        "      ca1_m[key][key2] = ca1[key][key2][:, ca1_division_size:2*ca1_division_size, :].mean(axis = 1)\n",
        "\n",
        "      counter = 0\n",
        "      temp = np.zeros(n_samples)\n",
        "      temp_ar = []\n",
        "      for i in range(ca1_m[key][key2].shape[0]):\n",
        "        temp = temp + ca1_m[key][key2][i, :]\n",
        "        counter += 1\n",
        "\n",
        "        if (counter == trial_binsize):\n",
        "          temp_ar.append(temp / counter)\n",
        "          counter = 0\n",
        "          temp = np.zeros(n_samples)\n",
        "\n",
        "      if (counter != 0):\n",
        "        temp_ar.append(temp / counter)\n",
        "\n",
        "      ca1_m[key][key2] = np.asarray(temp_ar)\n",
        "\n",
        "\n",
        "      ca1_d[key][key2] = ca1[key][key2][:, 2*ca1_division_size:3*ca1_division_size, :].mean(axis = 1)\n",
        "\n",
        "      counter = 0\n",
        "      temp = np.zeros(n_samples)\n",
        "      temp_ar = []\n",
        "      for i in range(ca1_d[key][key2].shape[0]):\n",
        "        temp = temp + ca1_d[key][key2][i, :]\n",
        "        counter += 1\n",
        "\n",
        "        if (counter == trial_binsize):\n",
        "          temp_ar.append(temp / counter)\n",
        "          counter = 0\n",
        "          temp = np.zeros(n_samples)\n",
        "\n",
        "      if (counter != 0):\n",
        "        temp_ar.append(temp / counter)\n",
        "\n",
        "      ca1_d[key][key2] = np.asarray(temp_ar)\n",
        "\n",
        "      ot_s[key][key2] = ot[key][key2][:, :ot_division_size, :].mean(axis = 1)\n",
        "\n",
        "      counter = 0\n",
        "      temp = np.zeros(n_samples)\n",
        "      temp_ar = []\n",
        "      for i in range(ot_s[key][key2].shape[0]):\n",
        "        temp = temp + ot_s[key][key2][i, :]\n",
        "        counter += 1\n",
        "\n",
        "        if (counter == trial_binsize):\n",
        "          temp_ar.append(temp / counter)\n",
        "          counter = 0\n",
        "          temp = np.zeros(n_samples)\n",
        "\n",
        "      if (counter != 0):\n",
        "        temp_ar.append(temp / counter)\n",
        "\n",
        "      ot_s[key][key2] = np.asarray(temp_ar)\n",
        "\n",
        "      ot_m[key][key2] = ot[key][key2][:, ot_division_size:2*ot_division_size, :].mean(axis = 1)\n",
        "\n",
        "      counter = 0\n",
        "      temp = np.zeros(n_samples)\n",
        "      temp_ar = []\n",
        "      for i in range(ot_m[key][key2].shape[0]):\n",
        "        temp = temp + ot_m[key][key2][i, :]\n",
        "        counter += 1\n",
        "\n",
        "        if (counter == trial_binsize):\n",
        "          temp_ar.append(temp / counter)\n",
        "          counter = 0\n",
        "          temp = np.zeros(n_samples)\n",
        "\n",
        "      if (counter != 0):\n",
        "        temp_ar.append(temp / counter)\n",
        "\n",
        "      ot_m[key][key2] = np.asarray(temp_ar)\n",
        "\n",
        "      ot_d[key][key2] = ot[key][key2][:, 2*ot_division_size:3*ot_division_size, :].mean(axis = 1)\n",
        "\n",
        "      counter = 0\n",
        "      temp = np.zeros(n_samples)\n",
        "      temp_ar = []\n",
        "      for i in range(ot_d[key][key2].shape[0]):\n",
        "        temp = temp + ot_d[key][key2][i, :]\n",
        "        counter += 1\n",
        "\n",
        "        if (counter == trial_binsize):\n",
        "          temp_ar.append(temp / counter)\n",
        "          counter = 0\n",
        "          temp = np.zeros(n_samples)\n",
        "\n",
        "      if (counter != 0):\n",
        "        temp_ar.append(temp / counter)\n",
        "\n",
        "      ot_d[key][key2] = np.asarray(temp_ar)"
      ],
      "metadata": {
        "id": "_ksaLhhRBOMN"
      },
      "execution_count": null,
      "outputs": []
    },
    {
      "cell_type": "code",
      "source": [
        "ca1_m['right']['before'].shape, ca1_m['left']['before'].shape, ca1_m['nogo']['before'].shape"
      ],
      "metadata": {
        "colab": {
          "base_uri": "https://localhost:8080/"
        },
        "id": "cOTerSXODgCj",
        "outputId": "34ffa6c8-cb9d-4759-f76e-370838c51bd3"
      },
      "execution_count": null,
      "outputs": [
        {
          "output_type": "execute_result",
          "data": {
            "text/plain": [
              "((20, 250), (27, 250), (7, 250))"
            ]
          },
          "metadata": {},
          "execution_count": 102
        }
      ]
    },
    {
      "cell_type": "code",
      "source": [
        "ot_m['right']['before'].shape, ot_m['left']['before'].shape, ot_m['nogo']['before'].shape"
      ],
      "metadata": {
        "colab": {
          "base_uri": "https://localhost:8080/"
        },
        "id": "7rLPSysQ0xdC",
        "outputId": "e4ae21d1-8e36-4ab0-c153-dff0e7919a7a"
      },
      "execution_count": null,
      "outputs": [
        {
          "output_type": "execute_result",
          "data": {
            "text/plain": [
              "((20, 250), (27, 250), (7, 250))"
            ]
          },
          "metadata": {},
          "execution_count": 101
        }
      ]
    },
    {
      "cell_type": "markdown",
      "source": [
        "## Calculate Granger Causality"
      ],
      "metadata": {
        "id": "wcs51Ohj0Z9B"
      }
    },
    {
      "cell_type": "code",
      "source": [
        "# LEFT TRIALS - BEFORE RESPONSE\n",
        "n_trial_bins = ca1_m['left']['before'].shape[0]\n",
        "n_samples = ca1_m['left']['before'].shape[1]\n",
        "\n",
        "high_freq = [30, 80]\n",
        "low_freq = [8,12]\n",
        "\n",
        "model_order = 10\n",
        "\n",
        "amp_phase_gc_LB = np.zeros((n_trial_bins, 6, 6))\n",
        "phase_amp_gc_LB = np.zeros((n_trial_bins, 6, 6))\n",
        "\n",
        "for i in range(n_trial_bins):\n",
        "  amp_ca1_s, phase_ca1_s = get_amp_phase(ca1_s['left']['before'][i, :], n_samples, low_freq, high_freq)\n",
        "  amp_ca1_m, phase_ca1_m = get_amp_phase(ca1_m['left']['before'][i, :], n_samples, low_freq, high_freq)\n",
        "  amp_ca1_d, phase_ca1_d = get_amp_phase(ca1_d['left']['before'][i, :], n_samples, low_freq, high_freq)\n",
        "  amp_ot_s, phase_ot_s = get_amp_phase(ot_s['left']['before'][i, :], n_samples, low_freq, high_freq)\n",
        "  amp_ot_m, phase_ot_m = get_amp_phase(ot_m['left']['before'][i, :], n_samples, low_freq, high_freq)\n",
        "  amp_ot_d, phase_ot_d = get_amp_phase(ot_d['left']['before'][i, :], n_samples, low_freq, high_freq)\n",
        "\n",
        "  amps = [amp_ca1_s, amp_ca1_m, amp_ca1_d, amp_ot_s, amp_ot_m, amp_ot_d]\n",
        "  phases = [phase_ca1_s, phase_ca1_m, phase_ca1_d, phase_ot_s, phase_ot_m, phase_ot_d]\n",
        "\n",
        "  for j in range(6):\n",
        "    for k in range(6):\n",
        "      amp_phase_gc_LB[i, j, k] = calc_gc(amps[j], phases[k], n_samples, model_order)\n",
        "      phase_amp_gc_LB[i, j, k] = calc_gc(phases[j], amps[k], n_samples, model_order)"
      ],
      "metadata": {
        "id": "p3dcEH890gbl"
      },
      "execution_count": null,
      "outputs": []
    },
    {
      "cell_type": "code",
      "source": [
        "# LEFT TRIALS - AFTER RESPONSE\n",
        "n_trial_bins = ca1_m['left']['after'].shape[0]\n",
        "n_samples = ca1_m['left']['after'].shape[1]\n",
        "\n",
        "high_freq = [30, 80]\n",
        "low_freq = [8,12]\n",
        "\n",
        "model_order = 10\n",
        "\n",
        "amp_phase_gc_LA = np.zeros((n_trial_bins, 6, 6))\n",
        "phase_amp_gc_LA = np.zeros((n_trial_bins, 6, 6))\n",
        "\n",
        "for i in range(n_trial_bins):\n",
        "  amp_ca1_s, phase_ca1_s = get_amp_phase(ca1_s['left']['after'][i, :], n_samples, low_freq, high_freq)\n",
        "  amp_ca1_m, phase_ca1_m = get_amp_phase(ca1_m['left']['after'][i, :], n_samples, low_freq, high_freq)\n",
        "  amp_ca1_d, phase_ca1_d = get_amp_phase(ca1_d['left']['after'][i, :], n_samples, low_freq, high_freq)\n",
        "  amp_ot_s, phase_ot_s = get_amp_phase(ot_s['left']['after'][i, :], n_samples, low_freq, high_freq)\n",
        "  amp_ot_m, phase_ot_m = get_amp_phase(ot_m['left']['after'][i, :], n_samples, low_freq, high_freq)\n",
        "  amp_ot_d, phase_ot_d = get_amp_phase(ot_d['left']['after'][i, :], n_samples, low_freq, high_freq)\n",
        "\n",
        "  amps = [amp_ca1_s, amp_ca1_m, amp_ca1_d, amp_ot_s, amp_ot_m, amp_ot_d]\n",
        "  phases = [phase_ca1_s, phase_ca1_m, phase_ca1_d, phase_ot_s, phase_ot_m, phase_ot_d]\n",
        "\n",
        "  for j in range(6):\n",
        "    for k in range(6):\n",
        "      amp_phase_gc_LA[i, j, k] = calc_gc(amps[j], phases[k], n_samples, model_order)\n",
        "      phase_amp_gc_LA[i, j, k] = calc_gc(phases[j], amps[k], n_samples, model_order)"
      ],
      "metadata": {
        "id": "QZ8MhAOa9Jf2"
      },
      "execution_count": null,
      "outputs": []
    },
    {
      "cell_type": "code",
      "source": [
        "# RIGHT TRIALS - BEFORE RESPONSE\n",
        "n_trial_bins = ca1_m['right']['before'].shape[0]\n",
        "n_samples = ca1_m['right']['before'].shape[1]\n",
        "\n",
        "high_freq = [30, 80]\n",
        "low_freq = [8,12]\n",
        "\n",
        "model_order = 10\n",
        "\n",
        "amp_phase_gc_RB = np.zeros((n_trial_bins, 6, 6))\n",
        "phase_amp_gc_RB = np.zeros((n_trial_bins, 6, 6))\n",
        "\n",
        "for i in range(n_trial_bins):\n",
        "  amp_ca1_s, phase_ca1_s = get_amp_phase(ca1_s['right']['before'][i, :], n_samples, low_freq, high_freq)\n",
        "  amp_ca1_m, phase_ca1_m = get_amp_phase(ca1_m['right']['before'][i, :], n_samples, low_freq, high_freq)\n",
        "  amp_ca1_d, phase_ca1_d = get_amp_phase(ca1_d['right']['before'][i, :], n_samples, low_freq, high_freq)\n",
        "  amp_ot_s, phase_ot_s = get_amp_phase(ot_s['right']['before'][i, :], n_samples, low_freq, high_freq)\n",
        "  amp_ot_m, phase_ot_m = get_amp_phase(ot_m['right']['before'][i, :], n_samples, low_freq, high_freq)\n",
        "  amp_ot_d, phase_ot_d = get_amp_phase(ot_d['right']['before'][i, :], n_samples, low_freq, high_freq)\n",
        "\n",
        "  amps = [amp_ca1_s, amp_ca1_m, amp_ca1_d, amp_ot_s, amp_ot_m, amp_ot_d]\n",
        "  phases = [phase_ca1_s, phase_ca1_m, phase_ca1_d, phase_ot_s, phase_ot_m, phase_ot_d]\n",
        "\n",
        "  for j in range(6):\n",
        "    for k in range(6):\n",
        "      amp_phase_gc_RB[i, j, k] = calc_gc(amps[j], phases[k], n_samples, model_order)\n",
        "      phase_amp_gc_RB[i, j, k] = calc_gc(phases[j], amps[k], n_samples, model_order)"
      ],
      "metadata": {
        "id": "nxDKqG1H9c5c"
      },
      "execution_count": null,
      "outputs": []
    },
    {
      "cell_type": "code",
      "source": [
        "# RIGHT TRIALS - AFTER RESPONSE\n",
        "n_trial_bins = ca1_m['right']['after'].shape[0]\n",
        "n_samples = ca1_m['right']['after'].shape[1]\n",
        "\n",
        "high_freq = [30, 80]\n",
        "low_freq = [8,12]\n",
        "\n",
        "model_order = 10\n",
        "\n",
        "amp_phase_gc_RA = np.zeros((n_trial_bins, 6, 6))\n",
        "phase_amp_gc_RA = np.zeros((n_trial_bins, 6, 6))\n",
        "\n",
        "for i in range(n_trial_bins):\n",
        "  amp_ca1_s, phase_ca1_s = get_amp_phase(ca1_s['right']['after'][i, :], n_samples, low_freq, high_freq)\n",
        "  amp_ca1_m, phase_ca1_m = get_amp_phase(ca1_m['right']['after'][i, :], n_samples, low_freq, high_freq)\n",
        "  amp_ca1_d, phase_ca1_d = get_amp_phase(ca1_d['right']['after'][i, :], n_samples, low_freq, high_freq)\n",
        "  amp_ot_s, phase_ot_s = get_amp_phase(ot_s['right']['after'][i, :], n_samples, low_freq, high_freq)\n",
        "  amp_ot_m, phase_ot_m = get_amp_phase(ot_m['right']['after'][i, :], n_samples, low_freq, high_freq)\n",
        "  amp_ot_d, phase_ot_d = get_amp_phase(ot_d['right']['after'][i, :], n_samples, low_freq, high_freq)\n",
        "\n",
        "  amps = [amp_ca1_s, amp_ca1_m, amp_ca1_d, amp_ot_s, amp_ot_m, amp_ot_d]\n",
        "  phases = [phase_ca1_s, phase_ca1_m, phase_ca1_d, phase_ot_s, phase_ot_m, phase_ot_d]\n",
        "\n",
        "  for j in range(6):\n",
        "    for k in range(6):\n",
        "      amp_phase_gc_RA[i, j, k] = calc_gc(amps[j], phases[k], n_samples, model_order)\n",
        "      phase_amp_gc_RA[i, j, k] = calc_gc(phases[j], amps[k], n_samples, model_order)"
      ],
      "metadata": {
        "id": "9TrBkxyS99Xe"
      },
      "execution_count": null,
      "outputs": []
    },
    {
      "cell_type": "code",
      "source": [
        "# NOGO TRIALS - BEFORE RESPONSE\n",
        "n_trial_bins = ca1_m['nogo']['before'].shape[0]\n",
        "n_samples = ca1_m['nogo']['before'].shape[1]\n",
        "\n",
        "high_freq = [30, 80]\n",
        "low_freq = [8,12]\n",
        "\n",
        "model_order = 10\n",
        "\n",
        "amp_phase_gc_NB = np.zeros((n_trial_bins, 6, 6))\n",
        "phase_amp_gc_NB = np.zeros((n_trial_bins, 6, 6))\n",
        "\n",
        "for i in range(n_trial_bins):\n",
        "  amp_ca1_s, phase_ca1_s = get_amp_phase(ca1_s['nogo']['before'][i, :], n_samples, low_freq, high_freq)\n",
        "  amp_ca1_m, phase_ca1_m = get_amp_phase(ca1_m['nogo']['before'][i, :], n_samples, low_freq, high_freq)\n",
        "  amp_ca1_d, phase_ca1_d = get_amp_phase(ca1_d['nogo']['before'][i, :], n_samples, low_freq, high_freq)\n",
        "  amp_ot_s, phase_ot_s = get_amp_phase(ot_s['nogo']['before'][i, :], n_samples, low_freq, high_freq)\n",
        "  amp_ot_m, phase_ot_m = get_amp_phase(ot_m['nogo']['before'][i, :], n_samples, low_freq, high_freq)\n",
        "  amp_ot_d, phase_ot_d = get_amp_phase(ot_d['nogo']['before'][i, :], n_samples, low_freq, high_freq)\n",
        "\n",
        "  amps = [amp_ca1_s, amp_ca1_m, amp_ca1_d, amp_ot_s, amp_ot_m, amp_ot_d]\n",
        "  phases = [phase_ca1_s, phase_ca1_m, phase_ca1_d, phase_ot_s, phase_ot_m, phase_ot_d]\n",
        "\n",
        "  for j in range(6):\n",
        "    for k in range(6):\n",
        "      amp_phase_gc_NB[i, j, k] = calc_gc(amps[j], phases[k], n_samples, model_order)\n",
        "      phase_amp_gc_NB[i, j, k] = calc_gc(phases[j], amps[k], n_samples, model_order)"
      ],
      "metadata": {
        "id": "7ecMrDgl-UJI"
      },
      "execution_count": null,
      "outputs": []
    },
    {
      "cell_type": "code",
      "source": [
        "# NOGO TRIALS - AFTER RESPONSE\n",
        "n_trial_bins = ca1_m['nogo']['after'].shape[0]\n",
        "n_samples = ca1_m['nogo']['after'].shape[1]\n",
        "\n",
        "high_freq = [30, 80]\n",
        "low_freq = [8,12]\n",
        "\n",
        "model_order = 10\n",
        "\n",
        "amp_phase_gc_NA = np.zeros((n_trial_bins, 6, 6))\n",
        "phase_amp_gc_NA = np.zeros((n_trial_bins, 6, 6))\n",
        "\n",
        "for i in range(n_trial_bins):\n",
        "  amp_ca1_s, phase_ca1_s = get_amp_phase(ca1_s['nogo']['after'][i, :], n_samples, low_freq, high_freq)\n",
        "  amp_ca1_m, phase_ca1_m = get_amp_phase(ca1_m['nogo']['after'][i, :], n_samples, low_freq, high_freq)\n",
        "  amp_ca1_d, phase_ca1_d = get_amp_phase(ca1_d['nogo']['after'][i, :], n_samples, low_freq, high_freq)\n",
        "  amp_ot_s, phase_ot_s = get_amp_phase(ot_s['nogo']['after'][i, :], n_samples, low_freq, high_freq)\n",
        "  amp_ot_m, phase_ot_m = get_amp_phase(ot_m['nogo']['after'][i, :], n_samples, low_freq, high_freq)\n",
        "  amp_ot_d, phase_ot_d = get_amp_phase(ot_d['nogo']['after'][i, :], n_samples, low_freq, high_freq)\n",
        "\n",
        "  amps = [amp_ca1_s, amp_ca1_m, amp_ca1_d, amp_ot_s, amp_ot_m, amp_ot_d]\n",
        "  phases = [phase_ca1_s, phase_ca1_m, phase_ca1_d, phase_ot_s, phase_ot_m, phase_ot_d]\n",
        "\n",
        "  for j in range(6):\n",
        "    for k in range(6):\n",
        "      amp_phase_gc_NA[i, j, k] = calc_gc(amps[j], phases[k], n_samples, model_order)\n",
        "      phase_amp_gc_NA[i, j, k] = calc_gc(phases[j], amps[k], n_samples, model_order)"
      ],
      "metadata": {
        "id": "DQfkKaDm-SIC"
      },
      "execution_count": null,
      "outputs": []
    },
    {
      "cell_type": "code",
      "source": [
        "(amp_phase_gc_RA[:,:,:] != 0).sum(), (amp_phase_gc_RB[:,:,:] != 0).sum()"
      ],
      "metadata": {
        "colab": {
          "base_uri": "https://localhost:8080/"
        },
        "id": "A1wa5yO68Ybx",
        "outputId": "590a5a77-1c82-4f69-fcb5-ed2e1bc58891"
      },
      "execution_count": null,
      "outputs": [
        {
          "output_type": "execute_result",
          "data": {
            "text/plain": [
              "(21, 109)"
            ]
          },
          "metadata": {},
          "execution_count": 34
        }
      ]
    },
    {
      "cell_type": "code",
      "source": [
        "(amp_phase_gc_LA[:,:,:] != 0).sum(), (amp_phase_gc_LB[:,:,:] != 0).sum()"
      ],
      "metadata": {
        "colab": {
          "base_uri": "https://localhost:8080/"
        },
        "id": "SvNp1YwABM-F",
        "outputId": "0fdcd519-b7bf-44f0-f76b-df8a95633f5b"
      },
      "execution_count": null,
      "outputs": [
        {
          "output_type": "execute_result",
          "data": {
            "text/plain": [
              "(72, 133)"
            ]
          },
          "metadata": {},
          "execution_count": 35
        }
      ]
    },
    {
      "cell_type": "markdown",
      "source": [
        "## Calculate PAC"
      ],
      "metadata": {
        "id": "Kmokws9zAKHD"
      }
    },
    {
      "cell_type": "code",
      "source": [
        "import rid"
      ],
      "metadata": {
        "id": "7YbjH0_QFKuH"
      },
      "execution_count": 44,
      "outputs": []
    },
    {
      "cell_type": "code",
      "source": [
        "# LEFT TRIALS - BEFORE RESPONSE\n",
        "n_trial_bins = ca1_m['left']['before'].shape[0]\n",
        "n_samples = ca1_m['left']['before'].shape[1]\n",
        "\n",
        "high_freq = [30, 80]\n",
        "low_freq = [8,12]\n",
        "\n",
        "model_order = 10\n",
        "\n",
        "pac_LB = np.zeros((n_trial_bins, 6, 6))\n",
        "\n",
        "for i in range(n_trial_bins):\n",
        "  amp_ca1_s, phase_ca1_s = get_amp_phase(ca1_s['left']['before'][i, :], n_samples, low_freq, high_freq)\n",
        "  amp_ca1_m, phase_ca1_m = get_amp_phase(ca1_m['left']['before'][i, :], n_samples, low_freq, high_freq)\n",
        "  amp_ca1_d, phase_ca1_d = get_amp_phase(ca1_m['left']['before'][i, :], n_samples, low_freq, high_freq)\n",
        "  amp_ot_s, phase_ot_s = get_amp_phase(ca1_s['left']['before'][i, :], n_samples, low_freq, high_freq)\n",
        "  amp_ot_m, phase_ot_m = get_amp_phase(ca1_m['left']['before'][i, :], n_samples, low_freq, high_freq)\n",
        "  amp_ot_d, phase_ot_d = get_amp_phase(ca1_d['left']['before'][i, :], n_samples, low_freq, high_freq)\n",
        "\n",
        "  sigs = [ca1_s['left']['before'][i, :], ca1_m['left']['before'][i, :], ca1_d['left']['before'][i, :], \\\n",
        "          ot_s['left']['before'][i, :], ot_m['left']['before'][i, :], ot_d['left']['before'][i, :]]\n",
        "\n",
        "  for j in range(6):\n",
        "    for k in range(6):\n",
        "      pac_LB[i, j, k] = rid.tfMVL2(sigs[j], high_freq, sigs[k], low_freq, n_samples)"
      ],
      "metadata": {
        "id": "M6orLX34AMzi"
      },
      "execution_count": 54,
      "outputs": []
    },
    {
      "cell_type": "code",
      "source": [
        "# LEFT TRIALS - AFTER RESPONSE\n",
        "n_trial_bins = ca1_m['left']['after'].shape[0]\n",
        "n_samples = ca1_m['left']['after'].shape[1]\n",
        "\n",
        "high_freq = [30, 80]\n",
        "low_freq = [8,12]\n",
        "\n",
        "model_order = 10\n",
        "\n",
        "pac_LA = np.zeros((n_trial_bins, 6, 6))\n",
        "\n",
        "for i in range(n_trial_bins):\n",
        "  amp_ca1_s, phase_ca1_s = get_amp_phase(ca1_s['left']['after'][i, :], n_samples, low_freq, high_freq)\n",
        "  amp_ca1_m, phase_ca1_m = get_amp_phase(ca1_m['left']['after'][i, :], n_samples, low_freq, high_freq)\n",
        "  amp_ca1_d, phase_ca1_d = get_amp_phase(ca1_m['left']['after'][i, :], n_samples, low_freq, high_freq)\n",
        "  amp_ot_s, phase_ot_s = get_amp_phase(ca1_s['left']['after'][i, :], n_samples, low_freq, high_freq)\n",
        "  amp_ot_m, phase_ot_m = get_amp_phase(ca1_m['left']['after'][i, :], n_samples, low_freq, high_freq)\n",
        "  amp_ot_d, phase_ot_d = get_amp_phase(ca1_d['left']['after'][i, :], n_samples, low_freq, high_freq)\n",
        "\n",
        "  sigs = [ca1_s['left']['after'][i, :], ca1_m['left']['after'][i, :], ca1_d['left']['after'][i, :], \\\n",
        "          ot_s['left']['after'][i, :], ot_m['left']['after'][i, :], ot_d['left']['after'][i, :]]\n",
        "\n",
        "  for j in range(6):\n",
        "    for k in range(6):\n",
        "      pac_LA[i, j, k] = rid.tfMVL2(sigs[j], high_freq, sigs[k], low_freq, n_samples)"
      ],
      "metadata": {
        "id": "bNeGjnASF4Ae"
      },
      "execution_count": 55,
      "outputs": []
    },
    {
      "cell_type": "code",
      "source": [
        "# RIGHT TRIALS - BEFORE RESPONSE\n",
        "n_trial_bins = ca1_m['right']['before'].shape[0]\n",
        "n_samples = ca1_m['right']['before'].shape[1]\n",
        "\n",
        "high_freq = [30, 80]\n",
        "low_freq = [8,12]\n",
        "\n",
        "model_order = 10\n",
        "\n",
        "pac_RB = np.zeros((n_trial_bins, 6, 6))\n",
        "\n",
        "for i in range(n_trial_bins):\n",
        "  amp_ca1_s, phase_ca1_s = get_amp_phase(ca1_s['right']['before'][i, :], n_samples, low_freq, high_freq)\n",
        "  amp_ca1_m, phase_ca1_m = get_amp_phase(ca1_m['right']['before'][i, :], n_samples, low_freq, high_freq)\n",
        "  amp_ca1_d, phase_ca1_d = get_amp_phase(ca1_m['right']['before'][i, :], n_samples, low_freq, high_freq)\n",
        "  amp_ot_s, phase_ot_s = get_amp_phase(ca1_s['right']['before'][i, :], n_samples, low_freq, high_freq)\n",
        "  amp_ot_m, phase_ot_m = get_amp_phase(ca1_m['right']['before'][i, :], n_samples, low_freq, high_freq)\n",
        "  amp_ot_d, phase_ot_d = get_amp_phase(ca1_d['right']['before'][i, :], n_samples, low_freq, high_freq)\n",
        "\n",
        "  sigs = [ca1_s['right']['before'][i, :], ca1_m['right']['before'][i, :], ca1_d['right']['before'][i, :], \\\n",
        "          ot_s['right']['before'][i, :], ot_m['right']['before'][i, :], ot_d['right']['before'][i, :]]\n",
        "\n",
        "  for j in range(6):\n",
        "    for k in range(6):\n",
        "      pac_RB[i, j, k] = rid.tfMVL2(sigs[j], high_freq, sigs[k], low_freq, n_samples)"
      ],
      "metadata": {
        "id": "fNQXasTLGMf_"
      },
      "execution_count": 58,
      "outputs": []
    },
    {
      "cell_type": "code",
      "source": [
        "# RIGHT TRIALS - AFTER RESPONSE\n",
        "n_trial_bins = ca1_m['right']['after'].shape[0]\n",
        "n_samples = ca1_m['right']['after'].shape[1]\n",
        "\n",
        "high_freq = [30, 80]\n",
        "low_freq = [8,12]\n",
        "\n",
        "model_order = 10\n",
        "\n",
        "pac_RA = np.zeros((n_trial_bins, 6, 6))\n",
        "\n",
        "for i in range(n_trial_bins):\n",
        "  amp_ca1_s, phase_ca1_s = get_amp_phase(ca1_s['right']['after'][i, :], n_samples, low_freq, high_freq)\n",
        "  amp_ca1_m, phase_ca1_m = get_amp_phase(ca1_m['right']['after'][i, :], n_samples, low_freq, high_freq)\n",
        "  amp_ca1_d, phase_ca1_d = get_amp_phase(ca1_m['right']['after'][i, :], n_samples, low_freq, high_freq)\n",
        "  amp_ot_s, phase_ot_s = get_amp_phase(ca1_s['right']['after'][i, :], n_samples, low_freq, high_freq)\n",
        "  amp_ot_m, phase_ot_m = get_amp_phase(ca1_m['right']['after'][i, :], n_samples, low_freq, high_freq)\n",
        "  amp_ot_d, phase_ot_d = get_amp_phase(ca1_d['right']['after'][i, :], n_samples, low_freq, high_freq)\n",
        "\n",
        "  sigs = [ca1_s['right']['after'][i, :], ca1_m['right']['after'][i, :], ca1_d['right']['after'][i, :], \\\n",
        "          ot_s['right']['after'][i, :], ot_m['right']['after'][i, :], ot_d['right']['after'][i, :]]\n",
        "\n",
        "  for j in range(6):\n",
        "    for k in range(6):\n",
        "      pac_RA[i, j, k] = rid.tfMVL2(sigs[j], high_freq, sigs[k], low_freq, n_samples)"
      ],
      "metadata": {
        "id": "NTxIvDeHHG5R"
      },
      "execution_count": null,
      "outputs": []
    },
    {
      "cell_type": "code",
      "source": [
        "# NOGO TRIALS - BEFORE RESPONSE\n",
        "n_trial_bins = ca1_m['nogo']['before'].shape[0]\n",
        "n_samples = ca1_m['nogo']['before'].shape[1]\n",
        "\n",
        "high_freq = [30, 80]\n",
        "low_freq = [8,12]\n",
        "\n",
        "model_order = 10\n",
        "\n",
        "pac_NB = np.zeros((n_trial_bins, 6, 6))\n",
        "\n",
        "for i in range(n_trial_bins):\n",
        "  amp_ca1_s, phase_ca1_s = get_amp_phase(ca1_s['nogo']['before'][i, :], n_samples, low_freq, high_freq)\n",
        "  amp_ca1_m, phase_ca1_m = get_amp_phase(ca1_m['nogo']['before'][i, :], n_samples, low_freq, high_freq)\n",
        "  amp_ca1_d, phase_ca1_d = get_amp_phase(ca1_m['nogo']['before'][i, :], n_samples, low_freq, high_freq)\n",
        "  amp_ot_s, phase_ot_s = get_amp_phase(ca1_s['nogo']['before'][i, :], n_samples, low_freq, high_freq)\n",
        "  amp_ot_m, phase_ot_m = get_amp_phase(ca1_m['nogo']['before'][i, :], n_samples, low_freq, high_freq)\n",
        "  amp_ot_d, phase_ot_d = get_amp_phase(ca1_d['nogo']['before'][i, :], n_samples, low_freq, high_freq)\n",
        "\n",
        "  sigs = [ca1_s['nogo']['before'][i, :], ca1_m['nogo']['before'][i, :], ca1_d['nogo']['before'][i, :], \\\n",
        "          ot_s['nogo']['before'][i, :], ot_m['nogo']['before'][i, :], ot_d['nogo']['before'][i, :]]\n",
        "\n",
        "  for j in range(6):\n",
        "    for k in range(6):\n",
        "      pac_NB[i, j, k] = rid.tfMVL2(sigs[j], high_freq, sigs[k], low_freq, n_samples)"
      ],
      "metadata": {
        "id": "fO3OIQHgHi72"
      },
      "execution_count": 56,
      "outputs": []
    },
    {
      "cell_type": "code",
      "source": [
        "# NOGO TRIALS - AFTER RESPONSE\n",
        "n_trial_bins = ca1_m['nogo']['after'].shape[0]\n",
        "n_samples = ca1_m['nogo']['after'].shape[1]\n",
        "\n",
        "high_freq = [30, 80]\n",
        "low_freq = [8,12]\n",
        "\n",
        "model_order = 10\n",
        "\n",
        "pac_NA = np.zeros((n_trial_bins, 6, 6))\n",
        "\n",
        "for i in range(n_trial_bins):\n",
        "  amp_ca1_s, phase_ca1_s = get_amp_phase(ca1_s['nogo']['after'][i, :], n_samples, low_freq, high_freq)\n",
        "  amp_ca1_m, phase_ca1_m = get_amp_phase(ca1_m['nogo']['after'][i, :], n_samples, low_freq, high_freq)\n",
        "  amp_ca1_d, phase_ca1_d = get_amp_phase(ca1_m['nogo']['after'][i, :], n_samples, low_freq, high_freq)\n",
        "  amp_ot_s, phase_ot_s = get_amp_phase(ca1_s['nogo']['after'][i, :], n_samples, low_freq, high_freq)\n",
        "  amp_ot_m, phase_ot_m = get_amp_phase(ca1_m['nogo']['after'][i, :], n_samples, low_freq, high_freq)\n",
        "  amp_ot_d, phase_ot_d = get_amp_phase(ca1_d['nogo']['after'][i, :], n_samples, low_freq, high_freq)\n",
        "\n",
        "  sigs = [ca1_s['nogo']['after'][i, :], ca1_m['nogo']['after'][i, :], ca1_d['nogo']['after'][i, :], \\\n",
        "          ot_s['nogo']['after'][i, :], ot_m['nogo']['after'][i, :], ot_d['nogo']['after'][i, :]]\n",
        "\n",
        "  for j in range(6):\n",
        "    for k in range(6):\n",
        "      pac_NA[i, j, k] = rid.tfMVL2(sigs[j], high_freq, sigs[k], low_freq, n_samples)"
      ],
      "metadata": {
        "id": "78cYBoEIIIrE"
      },
      "execution_count": 57,
      "outputs": []
    }
  ],
  "metadata": {
    "colab": {
      "provenance": [],
      "collapsed_sections": [
        "HbGwepoF3enZ",
        "9wFKvF3wBJ_1"
      ]
    },
    "kernelspec": {
      "display_name": "Python 3",
      "name": "python3"
    },
    "language_info": {
      "name": "python"
    }
  },
  "nbformat": 4,
  "nbformat_minor": 0
}