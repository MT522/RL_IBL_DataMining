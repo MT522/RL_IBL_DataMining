{
  "nbformat": 4,
  "nbformat_minor": 0,
  "metadata": {
    "colab": {
      "provenance": [],
      "collapsed_sections": [
        "KWhB8JOQs4rW"
      ]
    },
    "kernelspec": {
      "name": "python3",
      "display_name": "Python 3"
    },
    "language_info": {
      "name": "python"
    }
  },
  "cells": [
    {
      "cell_type": "markdown",
      "source": [
        "###**IBL** (international brain labaratory) posseses a large-scale data repository containing **raw data** and **results** of many neuroscientists performing experiments on rats and mices. Apart from the api, it features a unique **brainbox** as well using which you will be able to perform some calculations on your data and extract your preferred results."
      ],
      "metadata": {
        "id": "ysQY81fLtNjU"
      }
    },
    {
      "cell_type": "markdown",
      "source": [
        "#Using the API to retrieve the data"
      ],
      "metadata": {
        "id": "KWhB8JOQs4rW"
      }
    },
    {
      "cell_type": "markdown",
      "source": [
        "###In order to interact with the api retrieve some data, you need to have the proper third-party library installed. you may run the following block in order to install the library (make sure that you remove the exclamation mark at the beginning of the line in case you are running the code directly from you terminal rather than an online notebook editor)."
      ],
      "metadata": {
        "id": "z-aDl5kPtIBy"
      }
    },
    {
      "cell_type": "code",
      "source": [
        "!pip install ONE-api"
      ],
      "metadata": {
        "id": "YWK4wODRtJb_"
      },
      "execution_count": null,
      "outputs": []
    },
    {
      "cell_type": "markdown",
      "source": [
        "###Since the api retrieves the data as numpy arrays or pandas dataframes at time, you had better have these libraries included as well right at the beginning."
      ],
      "metadata": {
        "id": "wp7xhliPvAY4"
      }
    },
    {
      "cell_type": "code",
      "source": [
        "from one.api import ONE\n",
        "import pandas as pd\n",
        "import numpy as np"
      ],
      "metadata": {
        "id": "dw_d-AUOvQ-K"
      },
      "execution_count": null,
      "outputs": []
    },
    {
      "cell_type": "markdown",
      "source": [
        "###Just run the following block in order to gain access to the repo."
      ],
      "metadata": {
        "id": "TzioM2Qevk3Q"
      }
    },
    {
      "cell_type": "code",
      "source": [
        "ONE.setup(silent=True)\n",
        "one = ONE(password = \"international\")"
      ],
      "metadata": {
        "colab": {
          "base_uri": "https://localhost:8080/"
        },
        "id": "3uIgkbgZvyHn",
        "outputId": "8da06597-30bb-487a-ebf4-d802c791b540"
      },
      "execution_count": null,
      "outputs": [
        {
          "output_type": "stream",
          "name": "stdout",
          "text": [
            "Connected to https://openalyx.internationalbrainlab.org as user \"intbrainlab\"\n",
            "Downloading: /root/Downloads/ONE/openalyx.internationalbrainlab.org/tmpm4nfo_3w/cache.zip Bytes: 11816964\n"
          ]
        },
        {
          "output_type": "stream",
          "name": "stderr",
          "text": [
            "100%|██████████| 11.269535064697266/11.269535064697266 [00:00<00:00, 17.97it/s]\n"
          ]
        }
      ]
    },
    {
      "cell_type": "markdown",
      "source": [
        "###The repo contains experiments of different kinds distinguished based on the **\"task_protocol\"** property. Each experiment features a unique test subject performing the task assigned to it. Electrophysiological data of brain is also recorded at the time of the trials. You can search the extensive data repo using some key-terms of your liking in order to acheive the most relevant results. the key-terms using which the search command can be carried out can be retrieved using the following command"
      ],
      "metadata": {
        "id": "taCZGEZ_v_hu"
      }
    },
    {
      "cell_type": "code",
      "source": [
        "keyTerms = one.search_terms()\n",
        "\n",
        "keyTerms"
      ],
      "metadata": {
        "colab": {
          "base_uri": "https://localhost:8080/"
        },
        "id": "kukhC4Wt1bLS",
        "outputId": "c8d6ff27-3eff-4114-e6d4-8d161d6a55d4"
      },
      "execution_count": null,
      "outputs": [
        {
          "output_type": "execute_result",
          "data": {
            "text/plain": [
              "('dataset',\n",
              " 'date_range',\n",
              " 'laboratory',\n",
              " 'number',\n",
              " 'projects',\n",
              " 'subject',\n",
              " 'task_protocol')"
            ]
          },
          "metadata": {},
          "execution_count": 8
        }
      ]
    },
    {
      "cell_type": "markdown",
      "source": [
        "####Or in case you need to be more specific, the following set is more complete"
      ],
      "metadata": {
        "id": "a82glrJA1nf9"
      }
    },
    {
      "cell_type": "code",
      "source": [
        "keyTerms2 = one.alyx.list_endpoints()\n",
        "\n",
        "keyTerms2"
      ],
      "metadata": {
        "id": "pKUHsVaQ1wr4"
      },
      "execution_count": null,
      "outputs": []
    },
    {
      "cell_type": "markdown",
      "source": [
        "###Each experiment in the repo consists of only one recording session which is identified using the experimentID (eid). The **search()** method can help you retrieve the demanded eid using those key-terms for as your query guidelines.\n",
        "\n",
        "###**The first retrieved index is the header. Must not be used as an eid!**"
      ],
      "metadata": {
        "id": "X26K1v7-6COW"
      }
    },
    {
      "cell_type": "code",
      "source": [
        "eids = one.search(details = False,  query_type=None, task_protocol ='_iblrig_tasks_ephysChoiceWorld6.4.2', subject = 'KS051')\n",
        "\n",
        "eids"
      ],
      "metadata": {
        "colab": {
          "base_uri": "https://localhost:8080/"
        },
        "id": "wHYS0gGJ6fAK",
        "outputId": "592c7d1f-ca02-484f-9eb4-3ebdb76733d8"
      },
      "execution_count": null,
      "outputs": [
        {
          "output_type": "execute_result",
          "data": {
            "text/plain": [
              "['a48e8670-4910-46b6-aac4-ab9ff872b92c',\n",
              " '7082d8ff-255a-47d7-a839-bf093483ec30',\n",
              " '4503697e-af44-47d9-898d-4924be990240',\n",
              " '0a018f12-ee06-4b11-97aa-bbbff5448e9f']"
            ]
          },
          "metadata": {},
          "execution_count": 22
        }
      ]
    },
    {
      "cell_type": "markdown",
      "source": [
        "###You may gain some insight about each eid using the **get_details()** method before actually loading the corresponding dataset"
      ],
      "metadata": {
        "id": "wQz07bmh_sDn"
      }
    },
    {
      "cell_type": "code",
      "source": [
        "eid0 = eids[1]\n",
        "\n",
        "description = one.get_details(eid0, full = True)\n",
        "\n",
        "description.keys()"
      ],
      "metadata": {
        "colab": {
          "base_uri": "https://localhost:8080/"
        },
        "id": "o4t3pNH2_mvz",
        "outputId": "626d9581-fa8b-4f2b-e3f8-f1165a8f3137"
      },
      "execution_count": null,
      "outputs": [
        {
          "output_type": "execute_result",
          "data": {
            "text/plain": [
              "dict_keys(['subject', 'users', 'location', 'procedures', 'lab', 'projects', 'type', 'task_protocol', 'number', 'start_time', 'end_time', 'narrative', 'parent_session', 'n_correct_trials', 'n_trials', 'url', 'extended_qc', 'qc', 'wateradmin_session_related', 'data_dataset_session_related', 'auto_datetime', 'id', 'json', 'probe_insertion', 'field_of_view', 'notes'])"
            ]
          },
          "metadata": {},
          "execution_count": 28
        }
      ]
    },
    {
      "cell_type": "markdown",
      "source": [
        "###Each experiment consists of datasets related to different measurements. Some datasets feature raw electrophysiological or video data while the others are preprocessed using the spike sorters. In order to find out about the datasets included in the discussed experiment you can use the method **list_datasets()**."
      ],
      "metadata": {
        "id": "07AhJRVUCGCB"
      }
    },
    {
      "cell_type": "code",
      "source": [
        "one.list_datasets(eid0)"
      ],
      "metadata": {
        "id": "HMMDFJC2K_9a"
      },
      "execution_count": null,
      "outputs": []
    },
    {
      "cell_type": "markdown",
      "source": [
        "###After you have selected your preferred datasets, you can load the data using the method **load_dataset**. You must provide the eid and the proper dataset name as listed by the previous command."
      ],
      "metadata": {
        "id": "rKCvQt_NSOjl"
      }
    },
    {
      "cell_type": "code",
      "source": [
        "probe00_spikeClusters = one.load_dataset(eid0, 'alf/probe00/pykilosort/spikes.clusters.npy')\n",
        "probe00_spikeTimes = one.load_dataset(eid0, 'alf/probe00/pykilosort/spikes.times.npy')"
      ],
      "metadata": {
        "colab": {
          "base_uri": "https://localhost:8080/"
        },
        "id": "TrAa1HC2SgV5",
        "outputId": "f856796b-93e1-4839-efc9-4252e44720b2"
      },
      "execution_count": null,
      "outputs": [
        {
          "output_type": "stream",
          "name": "stderr",
          "text": [
            "/root/Downloads/ONE/openalyx.internationalbrainlab.org/cortexlab/Subjects/KS051/2021-05-13/001/alf/probe00/pykilosort/spikes.times.npy: 100%|██████████| 26.7M/26.7M [00:01<00:00, 18.7MB/s]\n"
          ]
        }
      ]
    },
    {
      "cell_type": "markdown",
      "source": [
        "####For example, we can retrieve the spike times and spike clusters as sorted by the pykilosort toolbox from the raw electrophysiological data. The unique labels from the clusters show that there are a totality of 164 neurons spiking. These 164 labels can be used with the spike times in order to create raster plots of all the neurons discussed in the experiment or etc."
      ],
      "metadata": {
        "id": "jSaiVP2OTcbh"
      }
    },
    {
      "cell_type": "code",
      "source": [
        "print(probe00_spikeClusters.shape)\n",
        "print(probe00_spikeTimes.shape)\n",
        "print(np.unique(probe00_spikeClusters))"
      ],
      "metadata": {
        "colab": {
          "base_uri": "https://localhost:8080/"
        },
        "id": "DMmVz9LBTP76",
        "outputId": "223dd6c3-41a8-4e88-c68b-baff97ee5429"
      },
      "execution_count": null,
      "outputs": [
        {
          "output_type": "stream",
          "name": "stdout",
          "text": [
            "(3341366,)\n",
            "(3341366,)\n",
            "[  0   1   2   3   4   5   6   7   8   9  10  11  12  13  14  15  16  17\n",
            "  18  19  20  21  22  23  24  25  26  27  28  29  30  31  32  33  34  35\n",
            "  36  37  38  39  40  41  42  43  44  45  46  47  48  49  50  51  52  53\n",
            "  54  55  56  57  58  59  60  61  62  63  64  65  66  67  68  69  70  71\n",
            "  72  73  74  75  76  77  78  79  80  81  82  83  84  85  86  87  88  89\n",
            "  90  91  92  93  94  95  96  97  98  99 100 101 102 103 104 105 106 107\n",
            " 108 109 110 111 112 113 114 115 116 117 118 119 120 121 122 123 124 125\n",
            " 126 127 128 129 130 131 132 133 134 135 136 137 138 139 140 141 142 143\n",
            " 144 145 146 147 148 149 150 151 152 153 154 155 156 157 158 159 160 161\n",
            " 162 163 164]\n"
          ]
        }
      ]
    },
    {
      "cell_type": "markdown",
      "source": [
        "###For more complex and nested queries, you can refer to [This documentation](https://int-brain-lab.github.io/ONE/notebooks/one_advanced/one_advanced.html)."
      ],
      "metadata": {
        "id": "Nl-nR4dnURtH"
      }
    },
    {
      "cell_type": "markdown",
      "source": [
        "#Using the exclusive brain toolbox"
      ],
      "metadata": {
        "id": "wTUBALx8VKhD"
      }
    },
    {
      "cell_type": "markdown",
      "source": [
        "LFP\n",
        "\n",
        "[link text](https://int-brain-lab.github.io/iblenv/notebooks_external/loading_ephys_data.html)\n",
        "\n",
        "[brainbox](https://int-brain-lab.github.io/iblenv/_autosummary/brainbox.lfp.html#module-brainbox.lfp)"
      ],
      "metadata": {
        "id": "YTihrev9Jegk"
      }
    },
    {
      "cell_type": "markdown",
      "source": [
        "return rms and timestamps array\n"
      ],
      "metadata": {
        "id": "3j04PjTxJiUG"
      }
    },
    {
      "cell_type": "code",
      "source": [
        "ap_rms = one.load_object(eid, f'ephysTimeRmsAP', collection=f'raw_ephys_data/{\"probe00\"}')\n",
        " rms = ap_rms['rms']\n",
        " t = ap_rms['timestamps']\n"
      ],
      "metadata": {
        "id": "-wvz140EJi_h"
      },
      "execution_count": null,
      "outputs": []
    },
    {
      "cell_type": "markdown",
      "source": [
        "PSD\n",
        "\n",
        "return power and freq array"
      ],
      "metadata": {
        "id": "3V7N3Kz7J0NK"
      }
    },
    {
      "cell_type": "code",
      "source": [
        "lf_psd = one.load_object(eid, f'ephysSpectralDensityLF', collection=f'raw_ephys_data/{\"probe00\"}')\n",
        "\n",
        "inds = trace_header()['ind']\n",
        "\n",
        "lf_psd['power'] = lf_psd['power'][:, inds]\n"
      ],
      "metadata": {
        "id": "ZcnTMqWJKZsc"
      },
      "execution_count": null,
      "outputs": []
    },
    {
      "cell_type": "markdown",
      "source": [
        "[useful plots](https://int-brain-lab.github.io/iblenv/_autosummary/brainbox.ephys_plots.html)"
      ],
      "metadata": {
        "id": "7MqERJ3hKgwL"
      }
    },
    {
      "cell_type": "code",
      "source": [],
      "metadata": {
        "id": "Moed_TheKhvc"
      },
      "execution_count": null,
      "outputs": []
    }
  ]
}